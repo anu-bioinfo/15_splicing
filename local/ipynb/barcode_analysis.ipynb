{
 "cells": [
  {
   "cell_type": "code",
   "execution_count": 1,
   "metadata": {
    "collapsed": true
   },
   "outputs": [],
   "source": [
    "from __future__ import division\n",
    "import pandas as pd\n",
    "import numpy as np\n",
    "import matplotlib.pyplot as plt\n",
    "import seaborn as sns\n",
    "%matplotlib inline\n",
    "plt.ion()\n",
    "\n",
    "import os\n",
    "import sys\n",
    "import re\n",
    "import pdb\n",
    "import glob\n",
    "\n",
    "num_possible_ss = 2*4**7"
   ]
  },
  {
   "cell_type": "code",
   "execution_count": 2,
   "metadata": {
    "collapsed": false
   },
   "outputs": [],
   "source": [
    "RESULT_FILE_PATTERN = re.compile('../from_pipeline/results\\.(?P<base>.*)\\.txt')\n",
    "BASE_PATTERN = re.compile('(?P<locus>.+)_lib(?P<lib_num>[0-9]+)_rep(?P<rep_num>[0-9]+)')\n",
    "\n",
    "class Result:\n",
    "    ''' Class to hold information on a results file'''\n",
    "    def __init__(self,file_name):\n",
    "        self.valid=False\n",
    "        m = re.match(RESULT_FILE_PATTERN,file_name)\n",
    "        if m:\n",
    "            self.data_file = file_name\n",
    "            \n",
    "            d1 = m.groupdict()\n",
    "            self.base = d1['base']\n",
    "            self.report_file = '../from_pipeline/report.results.%s.txt'%(self.base)\n",
    "            \n",
    "            d2 = re.match(BASE_PATTERN,self.base).groupdict()\n",
    "            self.locus = d2['locus']\n",
    "            self.lib_num = int(d2['lib_num'])\n",
    "            self.rep_num = int(d2['rep_num'])\n",
    "            self.valid=True\n",
    "\n",
    "            # Read in data\n",
    "            assert os.path.isfile(self.data_file)\n",
    "            self.data_df = pd.read_csv(self.data_file,delim_whitespace=True)\n",
    "            \n",
    "            # Load report file\n",
    "            assert os.path.isfile(self.report_file)\n",
    "            with open(self.report_file) as f:\n",
    "                self.report = f.read()\n",
    "\n",
    "        \n",
    "    def __repr__(self):\n",
    "        return '%s_lib%d_rep%d'%(self.locus,self.lib_num,self.rep_num)"
   ]
  },
  {
   "cell_type": "code",
   "execution_count": 3,
   "metadata": {
    "collapsed": false
   },
   "outputs": [
    {
     "name": "stdout",
     "output_type": "stream",
     "text": [
      "brca2_11nt_lib1_rep2\n",
      "ikbkap_9nt_lib2_rep1\n",
      "brca2_11nt_lib1_rep3\n",
      "brca2_11nt_lib1_rep1\n",
      "ikbkap_9nt_lib2_rep2\n",
      "ikbkap_9nt_lib2_rep3\n",
      "brca2_9nt_lib2_rep3\n",
      "brca2_9nt_lib2_rep2\n",
      "smn1_9nt_lib1_rep1\n",
      "smn1_9nt_lib1_rep3\n",
      "brca2_9nt_lib2_rep1\n",
      "smn1_9nt_lib1_rep2\n",
      "brca2_11nt_lib2_rep1\n",
      "ikbkap_9nt_lib1_rep2\n",
      "brca2_11nt_lib3_rep1\n",
      "ikbkap_9nt_lib1_rep3\n",
      "brca2_11nt_lib3_rep2\n",
      "brca2_11nt_lib2_rep2\n",
      "ikbkap_9nt_lib1_rep1\n",
      "brca2_11nt_lib2_rep3\n",
      "brca2_11nt_lib3_rep3\n",
      "smn1_9nt_lib2_rep3\n",
      "smn1_9nt_lib3_rep3\n",
      "brca2_9nt_lib1_rep1\n",
      "smn1_9nt_lib3_rep2\n",
      "smn1_9nt_lib2_rep2\n",
      "brca2_9nt_lib1_rep3\n",
      "brca2_9nt_lib1_rep2\n",
      "smn1_9nt_lib2_rep1\n",
      "smn1_9nt_lib3_rep1\n"
     ]
    }
   ],
   "source": [
    "results_dict = {}\n",
    "file_names = glob.glob('../from_pipeline/results.*.txt')\n",
    "for file_name in file_names:\n",
    "    result = Result(file_name)\n",
    "    if result.valid:\n",
    "        name = repr(result)\n",
    "        results_dict[name] = result\n",
    "        print name"
   ]
  },
  {
   "cell_type": "code",
   "execution_count": 8,
   "metadata": {
    "collapsed": false
   },
   "outputs": [],
   "source": [
    "df = results_dict['brca2_9nt_lib1_rep2'].data_df.copy()"
   ]
  },
  {
   "cell_type": "code",
   "execution_count": 9,
   "metadata": {
    "collapsed": false
   },
   "outputs": [
    {
     "data": {
      "text/html": [
       "<div>\n",
       "<table border=\"1\" class=\"dataframe\">\n",
       "  <thead>\n",
       "    <tr style=\"text-align: right;\">\n",
       "      <th></th>\n",
       "      <th>tot_ct</th>\n",
       "      <th>ex_ct</th>\n",
       "      <th>lib_ct</th>\n",
       "      <th>mis_ct</th>\n",
       "      <th>ss</th>\n",
       "      <th>bc</th>\n",
       "      <th>ratio</th>\n",
       "    </tr>\n",
       "  </thead>\n",
       "  <tbody>\n",
       "    <tr>\n",
       "      <th>0</th>\n",
       "      <td>404</td>\n",
       "      <td>4470</td>\n",
       "      <td>87</td>\n",
       "      <td>1</td>\n",
       "      <td>CAGGTTAGA</td>\n",
       "      <td>ACCGATCTGCCACGGCGACC</td>\n",
       "      <td>11.064356</td>\n",
       "    </tr>\n",
       "    <tr>\n",
       "      <th>1</th>\n",
       "      <td>380</td>\n",
       "      <td>33</td>\n",
       "      <td>164</td>\n",
       "      <td>3</td>\n",
       "      <td>ACAGCGGGA</td>\n",
       "      <td>TTAGCTATCGGCTGACGTCT</td>\n",
       "      <td>0.086842</td>\n",
       "    </tr>\n",
       "    <tr>\n",
       "      <th>2</th>\n",
       "      <td>341</td>\n",
       "      <td>22</td>\n",
       "      <td>109</td>\n",
       "      <td>2</td>\n",
       "      <td>CAAGCCTTA</td>\n",
       "      <td>AGGGACCATCCAGTTCGCCT</td>\n",
       "      <td>0.064516</td>\n",
       "    </tr>\n",
       "    <tr>\n",
       "      <th>3</th>\n",
       "      <td>312</td>\n",
       "      <td>16</td>\n",
       "      <td>97</td>\n",
       "      <td>1</td>\n",
       "      <td>AGCGTGTAT</td>\n",
       "      <td>CCACCCAACGCGCCGTCAGT</td>\n",
       "      <td>0.051282</td>\n",
       "    </tr>\n",
       "    <tr>\n",
       "      <th>4</th>\n",
       "      <td>295</td>\n",
       "      <td>4405</td>\n",
       "      <td>46</td>\n",
       "      <td>1</td>\n",
       "      <td>CAGGTGAGA</td>\n",
       "      <td>TTGAGGTACACTGAACAGTC</td>\n",
       "      <td>14.932203</td>\n",
       "    </tr>\n",
       "  </tbody>\n",
       "</table>\n",
       "</div>"
      ],
      "text/plain": [
       "   tot_ct  ex_ct  lib_ct  mis_ct         ss                    bc      ratio\n",
       "0     404   4470      87       1  CAGGTTAGA  ACCGATCTGCCACGGCGACC  11.064356\n",
       "1     380     33     164       3  ACAGCGGGA  TTAGCTATCGGCTGACGTCT   0.086842\n",
       "2     341     22     109       2  CAAGCCTTA  AGGGACCATCCAGTTCGCCT   0.064516\n",
       "3     312     16      97       1  AGCGTGTAT  CCACCCAACGCGCCGTCAGT   0.051282\n",
       "4     295   4405      46       1  CAGGTGAGA  TTGAGGTACACTGAACAGTC  14.932203"
      ]
     },
     "execution_count": 9,
     "metadata": {},
     "output_type": "execute_result"
    }
   ],
   "source": [
    "# Filter barcodes to only include those with tot_ct > 10\n",
    "df = pd.read_csv('../from_pipeline/results.brca2_9nt_lib1_rep2.txt', delim_whitespace=True)\n",
    "df = df[df['tot_ct'] > 10]\n",
    "df['ratio'] = df['ex_ct']/df['tot_ct']\n",
    "df.head()"
   ]
  },
  {
   "cell_type": "code",
   "execution_count": 10,
   "metadata": {
    "collapsed": false
   },
   "outputs": [
    {
     "name": "stdout",
     "output_type": "stream",
     "text": [
      "14.6933962264\n"
     ]
    }
   ],
   "source": [
    "cons_df = df[df['ss'] == 'CAGGTAAGT']\n",
    "cons_ratio = cons_df['ex_ct'].sum() / cons_df['tot_ct'].sum()\n",
    "print cons_ratio"
   ]
  },
  {
   "cell_type": "code",
   "execution_count": 11,
   "metadata": {
    "collapsed": false
   },
   "outputs": [
    {
     "name": "stderr",
     "output_type": "stream",
     "text": [
      "/Users/jkinney/anaconda/lib/python2.7/site-packages/ipykernel/__main__.py:2: FutureWarning: sort is deprecated, use sort_values(inplace=True) for INPLACE sorting\n",
      "  from ipykernel import kernelapp as app\n"
     ]
    },
    {
     "data": {
      "text/plain": [
       "ss\n",
       "ACAGCGGTA    43\n",
       "AACGCCAGG    35\n",
       "ACGGCTTGG    33\n",
       "ACGGTCCAT    33\n",
       "AAAGCCAGG    33\n",
       "dtype: int64"
      ]
     },
     "execution_count": 11,
     "metadata": {},
     "output_type": "execute_result"
    }
   ],
   "source": [
    "num_bc_per_ss = df.groupby('ss').size()\n",
    "num_bc_per_ss.sort(inplace=True,ascending=False)\n",
    "num_bc_per_ss.head()"
   ]
  },
  {
   "cell_type": "code",
   "execution_count": 12,
   "metadata": {
    "collapsed": false
   },
   "outputs": [
    {
     "name": "stderr",
     "output_type": "stream",
     "text": [
      "/Users/jkinney/anaconda/lib/python2.7/site-packages/ipykernel/__main__.py:1: FutureWarning: sort(columns=....) is deprecated, use sort_values(by=.....)\n",
      "  if __name__ == '__main__':\n"
     ]
    },
    {
     "data": {
      "text/html": [
       "<div>\n",
       "<table border=\"1\" class=\"dataframe\">\n",
       "  <thead>\n",
       "    <tr style=\"text-align: right;\">\n",
       "      <th></th>\n",
       "      <th>ratio</th>\n",
       "      <th>num_bc</th>\n",
       "      <th>psi</th>\n",
       "    </tr>\n",
       "    <tr>\n",
       "      <th>ss</th>\n",
       "      <th></th>\n",
       "      <th></th>\n",
       "      <th></th>\n",
       "    </tr>\n",
       "  </thead>\n",
       "  <tbody>\n",
       "    <tr>\n",
       "      <th>CGGGTAACC</th>\n",
       "      <td>29.307692</td>\n",
       "      <td>1</td>\n",
       "      <td>199.461662</td>\n",
       "    </tr>\n",
       "    <tr>\n",
       "      <th>CCAGTCGGC</th>\n",
       "      <td>24.916667</td>\n",
       "      <td>1</td>\n",
       "      <td>169.577314</td>\n",
       "    </tr>\n",
       "    <tr>\n",
       "      <th>CCGGTAAAG</th>\n",
       "      <td>24.608392</td>\n",
       "      <td>2</td>\n",
       "      <td>167.479262</td>\n",
       "    </tr>\n",
       "    <tr>\n",
       "      <th>GCGGTAAGG</th>\n",
       "      <td>22.958333</td>\n",
       "      <td>4</td>\n",
       "      <td>156.249331</td>\n",
       "    </tr>\n",
       "    <tr>\n",
       "      <th>GGCGTAAGT</th>\n",
       "      <td>21.579923</td>\n",
       "      <td>4</td>\n",
       "      <td>146.868178</td>\n",
       "    </tr>\n",
       "  </tbody>\n",
       "</table>\n",
       "</div>"
      ],
      "text/plain": [
       "               ratio  num_bc         psi\n",
       "ss                                      \n",
       "CGGGTAACC  29.307692       1  199.461662\n",
       "CCAGTCGGC  24.916667       1  169.577314\n",
       "CCGGTAAAG  24.608392       2  167.479262\n",
       "GCGGTAAGG  22.958333       4  156.249331\n",
       "GGCGTAAGT  21.579923       4  146.868178"
      ]
     },
     "execution_count": 12,
     "metadata": {},
     "output_type": "execute_result"
    }
   ],
   "source": [
    "median_ratios = df[['ss','ratio']].groupby('ss').median().sort('ratio',ascending=False)\n",
    "median_ratios['num_bc'] = df.groupby('ss').size()\n",
    "median_ratios['psi'] = 100*median_ratios['ratio'] / cons_ratio\n",
    "median_ratios.head()"
   ]
  },
  {
   "cell_type": "code",
   "execution_count": 13,
   "metadata": {
    "collapsed": false
   },
   "outputs": [
    {
     "name": "stdout",
     "output_type": "stream",
     "text": [
      "303\n"
     ]
    },
    {
     "name": "stderr",
     "output_type": "stream",
     "text": [
      "/Users/jkinney/anaconda/lib/python2.7/site-packages/ipykernel/__main__.py:8: SettingWithCopyWarning: \n",
      "A value is trying to be set on a copy of a slice from a DataFrame.\n",
      "Try using .loc[row_indexer,col_indexer] = value instead\n",
      "\n",
      "See the caveats in the documentation: http://pandas.pydata.org/pandas-docs/stable/indexing.html#indexing-view-versus-copy\n"
     ]
    },
    {
     "data": {
      "text/html": [
       "<div>\n",
       "<table border=\"1\" class=\"dataframe\">\n",
       "  <thead>\n",
       "    <tr style=\"text-align: right;\">\n",
       "      <th></th>\n",
       "      <th>index</th>\n",
       "      <th>tot_ct</th>\n",
       "      <th>ex_ct</th>\n",
       "      <th>lib_ct</th>\n",
       "      <th>mis_ct</th>\n",
       "      <th>ss</th>\n",
       "      <th>bc</th>\n",
       "      <th>ratio</th>\n",
       "      <th>psi</th>\n",
       "    </tr>\n",
       "  </thead>\n",
       "  <tbody>\n",
       "    <tr>\n",
       "      <th>0</th>\n",
       "      <td>219</td>\n",
       "      <td>141</td>\n",
       "      <td>1405</td>\n",
       "      <td>28</td>\n",
       "      <td>0</td>\n",
       "      <td>ATGGTGGGT</td>\n",
       "      <td>CATATCGCCAAGCTGGAGTT</td>\n",
       "      <td>9.964539</td>\n",
       "      <td>67.816445</td>\n",
       "    </tr>\n",
       "    <tr>\n",
       "      <th>1</th>\n",
       "      <td>475</td>\n",
       "      <td>120</td>\n",
       "      <td>1453</td>\n",
       "      <td>90</td>\n",
       "      <td>1</td>\n",
       "      <td>AAGGTAATA</td>\n",
       "      <td>TACGATCCTTAGTGCTCGTA</td>\n",
       "      <td>12.108333</td>\n",
       "      <td>82.406635</td>\n",
       "    </tr>\n",
       "    <tr>\n",
       "      <th>2</th>\n",
       "      <td>634</td>\n",
       "      <td>113</td>\n",
       "      <td>1434</td>\n",
       "      <td>45</td>\n",
       "      <td>2</td>\n",
       "      <td>CCGGTTAGT</td>\n",
       "      <td>CTTGAATCTGTCACTGGCTT</td>\n",
       "      <td>12.690265</td>\n",
       "      <td>86.367136</td>\n",
       "    </tr>\n",
       "    <tr>\n",
       "      <th>3</th>\n",
       "      <td>658</td>\n",
       "      <td>112</td>\n",
       "      <td>1125</td>\n",
       "      <td>58</td>\n",
       "      <td>1</td>\n",
       "      <td>ATGGTGAGG</td>\n",
       "      <td>TCACCTTCGCTGCGTTTGAG</td>\n",
       "      <td>10.044643</td>\n",
       "      <td>68.361614</td>\n",
       "    </tr>\n",
       "    <tr>\n",
       "      <th>4</th>\n",
       "      <td>753</td>\n",
       "      <td>109</td>\n",
       "      <td>1778</td>\n",
       "      <td>92</td>\n",
       "      <td>4</td>\n",
       "      <td>CAGGTATTA</td>\n",
       "      <td>ATTTCAGTCAACGCATGAAT</td>\n",
       "      <td>16.311927</td>\n",
       "      <td>111.015359</td>\n",
       "    </tr>\n",
       "  </tbody>\n",
       "</table>\n",
       "</div>"
      ],
      "text/plain": [
       "   index  tot_ct  ex_ct  lib_ct  mis_ct         ss                    bc  \\\n",
       "0    219     141   1405      28       0  ATGGTGGGT  CATATCGCCAAGCTGGAGTT   \n",
       "1    475     120   1453      90       1  AAGGTAATA  TACGATCCTTAGTGCTCGTA   \n",
       "2    634     113   1434      45       2  CCGGTTAGT  CTTGAATCTGTCACTGGCTT   \n",
       "3    658     112   1125      58       1  ATGGTGAGG  TCACCTTCGCTGCGTTTGAG   \n",
       "4    753     109   1778      92       4  CAGGTATTA  ATTTCAGTCAACGCATGAAT   \n",
       "\n",
       "       ratio         psi  \n",
       "0   9.964539   67.816445  \n",
       "1  12.108333   82.406635  \n",
       "2  12.690265   86.367136  \n",
       "3  10.044643   68.361614  \n",
       "4  16.311927  111.015359  "
      ]
     },
     "execution_count": 13,
     "metadata": {},
     "output_type": "execute_result"
    }
   ],
   "source": [
    "# Filter splice sites to include only those with\n",
    "# median PSI > 20 and num_bc > 10\n",
    "indices = (median_ratios['psi'] > 20) & (median_ratios['num_bc'] > 10)\n",
    "print sum(indices)\n",
    "all_ss_to_keep = median_ratios.index[indices]\n",
    "ss_to_keep = np.random.choice(all_ss_to_keep, 20, replace=False)\n",
    "tmp_df = df[df['ss'].isin(ss_to_keep)]\n",
    "tmp_df['psi'] = 100 * tmp_df['ratio'] / cons_ratio\n",
    "tmp_df.reset_index(inplace=True)\n",
    "tmp_df.head()"
   ]
  },
  {
   "cell_type": "code",
   "execution_count": 14,
   "metadata": {
    "collapsed": false
   },
   "outputs": [
    {
     "data": {
      "image/png": "[encoded data removed]",
      "text/plain": [
       "<matplotlib.figure.Figure at 0x1f673f490>"
      ]
     },
     "metadata": {},
     "output_type": "display_data"
    }
   ],
   "source": [
    "sns.set_style('white')\n",
    "sns.boxplot(x='ss', y='psi', data=tmp_df, color='white')\n",
    "sns.stripplot(x='ss', y='psi', data=tmp_df, alpha=.5)\n",
    "plt.ylim([0,200])\n",
    "plt.xticks([])\n",
    "sns.despine(offset=10, trim=True);\n",
    "plt.title('PSI by barcode for brca2_9nt_lib1_rep2')\n",
    "plt.savefig('../plots/barcode.brca2_9nt_lib1_rep2.pdf')"
   ]
  },
  {
   "cell_type": "code",
   "execution_count": null,
   "metadata": {
    "collapsed": true
   },
   "outputs": [],
   "source": [
    "# Turn this into a script!"
   ]
  }
 ],
 "metadata": {
  "kernelspec": {
   "display_name": "Python 2",
   "language": "python",
   "name": "python2"
  },
  "language_info": {
   "codemirror_mode": {
    "name": "ipython",
    "version": 2
   },
   "file_extension": ".py",
   "mimetype": "text/x-python",
   "name": "python",
   "nbconvert_exporter": "python",
   "pygments_lexer": "ipython2",
   "version": "2.7.11"
  }
 },
 "nbformat": 4,
 "nbformat_minor": 0
}
