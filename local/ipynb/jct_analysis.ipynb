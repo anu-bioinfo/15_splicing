{
 "cells": [
  {
   "cell_type": "code",
   "execution_count": 7,
   "metadata": {
    "collapsed": true
   },
   "outputs": [],
   "source": [
    "from __future__ import division\n",
    "import pandas as pd\n",
    "import numpy as np\n",
    "import matplotlib.pyplot as plt\n",
    "import seaborn as sns\n",
    "import matplotlib.image as mpimg\n",
    "%matplotlib inline\n",
    "plt.ion()\n",
    "\n",
    "import os\n",
    "import sys\n",
    "import re\n",
    "import pdb\n",
    "import glob\n",
    "\n",
    "sys.path.append('../code')\n",
    "import utils\n",
    "\n",
    "import weblogolib\n",
    "from IPython.display import Image\n",
    "\n",
    "sns.set_style(\"whitegrid\", {'axes.grid' : False})"
   ]
  },
  {
   "cell_type": "code",
   "execution_count": 5,
   "metadata": {
    "collapsed": false
   },
   "outputs": [
    {
     "data": {
      "text/plain": [
       "20"
      ]
     },
     "execution_count": 5,
     "metadata": {},
     "output_type": "execute_result"
    }
   ],
   "source": [
    "# Load junction data\n",
    "jct_files = glob.glob('../from_pipeline/counts.*_jct*.txt')\n",
    "pattern = re.compile('counts\\.(?P<name>.+)\\.txt')\n",
    "df_dict = {}\n",
    "for f in jct_files:\n",
    "    m = re.search(pattern,f)\n",
    "    d = m.groupdict()\n",
    "    name = d['name']\n",
    "    df = pd.read_csv(f,sep='\\t',usecols=[1,4])\n",
    "    df['length'] = [len(seq) for seq in df['jct']]\n",
    "    df_dict[name] = df.copy()\n",
    "len(df_dict)"
   ]
  },
  {
   "cell_type": "code",
   "execution_count": 27,
   "metadata": {
    "collapsed": false
   },
   "outputs": [
    {
     "name": "stdout",
     "output_type": "stream",
     "text": [
      "brca2_11nt_jct_lib1\n",
      "brca2_11nt_jct_lib2\n",
      "brca2_11nt_jct_lib3\n",
      "brca2_9nt_jct_lib1\n",
      "brca2_9nt_jct_lib2\n",
      "ikbkap_9nt_jct_lib1_rep1\n",
      "ikbkap_9nt_jct_lib1_rep2\n",
      "ikbkap_9nt_jct_lib1_rep3\n",
      "ikbkap_9nt_jct_lib2_rep1\n",
      "ikbkap_9nt_jct_lib2_rep2\n",
      "ikbkap_9nt_jct_lib2_rep3\n",
      "smn1_9nt_jct_lib1_rep1\n",
      "smn1_9nt_jct_lib1_rep2\n",
      "smn1_9nt_jct_lib1_rep3\n",
      "smn1_9nt_jct_lib2_rep1\n",
      "smn1_9nt_jct_lib2_rep2\n",
      "smn1_9nt_jct_lib2_rep3\n",
      "smn1_9nt_jct_lib3_rep1\n",
      "smn1_9nt_jct_lib3_rep2\n",
      "smn1_9nt_jct_lib3_rep3\n"
     ]
    }
   ],
   "source": [
    "# Compute splicing location (0 is expected) for each locus\n",
    "expected_length_dict = {\n",
    "        'brca2':31,\n",
    "        'smn1':28,\n",
    "        'ikbkap':31\n",
    "}\n",
    "min_displacement = -7\n",
    "max_displacement = +7\n",
    "displacement_values=range(min_displacement,max_displacement+1,1)\n",
    "\n",
    "# Compute lengths for each locus\n",
    "names = df_dict.keys()\n",
    "names.sort()\n",
    "cols = ['<%d'%min_displacement] + displacement_values + ['>%d'%max_displacement]\n",
    "displacement_df = pd.DataFrame(index=names,columns=cols)\n",
    "for name in names:\n",
    "    print name\n",
    "    df = df_dict[name]\n",
    "    gene = utils.splice(name,[0])\n",
    "    displacements = df['length']-expected_length_dict[gene]\n",
    "    for d in displacement_values:\n",
    "        displacement_df.loc[name,d]=list(displacements).count(d)\n",
    "    displacement_df.loc[name,cols[0]] = sum(displacements < min_displacement)\n",
    "    displacement_df.loc[name,cols[-1]] = sum(displacements > max_displacement)\n",
    "\n",
    "# Save file\n",
    "out_file='../output/jct_displacements.txt'\n",
    "displacement_df.to_csv(out_file,sep='\\t')"
   ]
  },
  {
   "cell_type": "code",
   "execution_count": 28,
   "metadata": {
    "collapsed": false
   },
   "outputs": [
    {
     "name": "stdout",
     "output_type": "stream",
     "text": [
      "\t<-7\t-7\t-6\t-5\t-4\t-3\t-2\t-1\t0\t1\t2\t3\t4\t5\t6\t7\t>7\r\n",
      "brca2_11nt_jct_lib1\t65\t18\t44\t52\t103\t180\t538\t872\t4672\t703\t3360\t3295\t250\t480\t1588\t1\t0\r\n",
      "brca2_11nt_jct_lib2\t59\t23\t57\t48\t71\t197\t524\t876\t4705\t720\t3361\t3157\t2670\t789\t2222\t4\t1\r\n",
      "brca2_11nt_jct_lib3\t44\t22\t39\t27\t75\t153\t522\t835\t4569\t598\t178\t150\t144\t249\t694\t1\t0\r\n",
      "brca2_9nt_jct_lib1\t142\t16\t30\t68\t81\t134\t447\t676\t3983\t398\t9\t11\t0\t2\t0\t0\t0\r\n",
      "brca2_9nt_jct_lib2\t159\t21\t31\t82\t63\t146\t528\t825\t4439\t477\t176\t47\t2\t2\t0\t0\t0\r\n",
      "ikbkap_9nt_jct_lib1_rep1\t29\t4\t1\t4\t7\t14\t92\t195\t1585\t39\t49\t3\t3\t1\t1\t2\t4\r\n",
      "ikbkap_9nt_jct_lib1_rep2\t87\t14\t8\t27\t21\t34\t201\t477\t3355\t97\t108\t15\t17\t3\t5\t8\t20\r\n",
      "ikbkap_9nt_jct_lib1_rep3\t120\t15\t15\t26\t29\t45\t233\t593\t4005\t127\t124\t13\t18\t7\t12\t7\t26\r\n",
      "ikbkap_9nt_jct_lib2_rep1\t91\t13\t17\t15\t26\t40\t238\t596\t4137\t183\t128\t11\t21\t7\t4\t13\t62\r\n",
      "ikbkap_9nt_jct_lib2_rep2\t102\t10\t20\t17\t30\t43\t250\t576\t4094\t187\t134\t19\t21\t5\t5\t15\t14\r\n",
      "ikbkap_9nt_jct_lib2_rep3\t79\t8\t10\t14\t20\t38\t220\t517\t3846\t141\t116\t11\t9\t6\t4\t9\t19\r\n",
      "smn1_9nt_jct_lib1_rep1\t7\t3\t4\t2\t6\t5\t53\t33\t343\t24\t0\t0\t0\t0\t0\t0\t0\r\n",
      "smn1_9nt_jct_lib1_rep2\t144\t17\t7\t33\t38\t36\t283\t277\t2583\t110\t15\t14\t1\t0\t0\t0\t0\r\n",
      "smn1_9nt_jct_lib1_rep3\t274\t33\t18\t58\t68\t102\t548\t612\t4363\t232\t30\t286\t5\t0\t0\t0\t0\r\n",
      "smn1_9nt_jct_lib2_rep1\t232\t23\t7\t105\t59\t86\t461\t528\t4046\t187\t27\t278\t124\t2\t0\t0\t0\r\n",
      "smn1_9nt_jct_lib2_rep2\t180\t16\t8\t51\t43\t57\t374\t349\t3203\t140\t0\t9\t1\t0\t0\t0\t0\r\n",
      "smn1_9nt_jct_lib2_rep3\t140\t17\t8\t39\t31\t39\t311\t265\t2600\t105\t12\t3\t0\t0\t0\t0\t0\r\n",
      "smn1_9nt_jct_lib3_rep1\t65\t7\t2\t14\t15\t16\t159\t121\t1523\t45\t10\t86\t0\t0\t0\t0\t0\r\n",
      "smn1_9nt_jct_lib3_rep2\t161\t23\t10\t46\t27\t41\t317\t294\t2882\t117\t18\t161\t101\t0\t0\t0\t0\r\n",
      "smn1_9nt_jct_lib3_rep3\t240\t40\t12\t60\t55\t89\t477\t433\t3933\t194\t3\t13\t1\t0\t0\t0\t0\r\n"
     ]
    }
   ],
   "source": [
    "!cat $out_file"
   ]
  },
  {
   "cell_type": "code",
   "execution_count": 6,
   "metadata": {
    "collapsed": false
   },
   "outputs": [
    {
     "data": {
      "image/png": "[encoded data removed]",
      "text/plain": [
       "<matplotlib.figure.Figure at 0x1046a5250>"
      ]
     },
     "metadata": {},
     "output_type": "display_data"
    }
   ],
   "source": [
    "# Histogram junction lengths\n",
    "plt.figure(figsize=[8,4])\n",
    "names = [n for n in df_dict.keys() if 'brca2' in n]\n",
    "names.sort()\n",
    "for n, name in enumerate(names):\n",
    "    plt.subplot(2,3,n+1)\n",
    "    df = df_dict[name]\n",
    "    lengths = df['length']\n",
    "    xs = np.arange(20,35)\n",
    "    ys = np.array([list(lengths).count(x) for x in xs])\n",
    "    i = ys.argmax()\n",
    "    plt.bar(xs-xs[i],ys)\n",
    "    plt.yticks([])\n",
    "    plt.title(name)\n",
    "    plt.xlim([-10,10])\n",
    "plt.tight_layout()\n",
    "plt.savefig('../plots/jct_analysis_brca2.pdf')"
   ]
  },
  {
   "cell_type": "code",
   "execution_count": null,
   "metadata": {
    "collapsed": false
   },
   "outputs": [],
   "source": [
    "# Histogram junction lengths\n",
    "plt.figure(figsize=[8,6])\n",
    "names = [n for n in df_dict.keys() if 'smn1' in n]\n",
    "names.sort()\n",
    "for n, name in enumerate(names):\n",
    "    plt.subplot(3,3,n+1)\n",
    "    df = df_dict[name]\n",
    "    lengths = df['length']\n",
    "    xs = np.arange(20,35)\n",
    "    ys = np.array([list(lengths).count(x) for x in xs])\n",
    "    i = ys.argmax()\n",
    "    plt.bar(xs-xs[i],ys)\n",
    "    plt.yticks([])\n",
    "    plt.title(name)\n",
    "    plt.xlim([-10,10])\n",
    "plt.tight_layout()\n",
    "plt.savefig('plots/jct_analysis_smn1.pdf')"
   ]
  },
  {
   "cell_type": "code",
   "execution_count": null,
   "metadata": {
    "collapsed": false
   },
   "outputs": [],
   "source": [
    "# Histogram junction lengths\n",
    "plt.figure(figsize=[8,4])\n",
    "names = [n for n in df_dict.keys() if 'ikbkap' in n]\n",
    "names.sort()\n",
    "for n, name in enumerate(names):\n",
    "    plt.subplot(2,3,n+1)\n",
    "    df = df_dict[name]\n",
    "    lengths = df['length']\n",
    "    xs = np.arange(20,35)\n",
    "    ys = np.array([list(lengths).count(x) for x in xs])\n",
    "    i = ys.argmax()\n",
    "    plt.bar(xs-xs[i],ys)\n",
    "    plt.yticks([])\n",
    "    plt.title(name)\n",
    "    plt.xlim([-10,10])\n",
    "plt.tight_layout()\n",
    "plt.savefig('plots/jct_analysis_ikbkap.pdf')"
   ]
  },
  {
   "cell_type": "code",
   "execution_count": null,
   "metadata": {
    "collapsed": true
   },
   "outputs": [],
   "source": []
  }
 ],
 "metadata": {
  "kernelspec": {
   "display_name": "Python 2",
   "language": "python",
   "name": "python2"
  },
  "language_info": {
   "codemirror_mode": {
    "name": "ipython",
    "version": 2
   },
   "file_extension": ".py",
   "mimetype": "text/x-python",
   "name": "python",
   "nbconvert_exporter": "python",
   "pygments_lexer": "ipython2",
   "version": "2.7.11"
  }
 },
 "nbformat": 4,
 "nbformat_minor": 0
}
