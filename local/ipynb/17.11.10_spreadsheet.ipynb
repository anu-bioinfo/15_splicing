{
 "cells": [
  {
   "cell_type": "code",
   "execution_count": 19,
   "metadata": {
    "collapsed": true
   },
   "outputs": [],
   "source": [
    "from __future__ import division\n",
    "import pandas as pd\n",
    "import numpy as np\n",
    "import matplotlib.pyplot as plt\n",
    "import seaborn as sns\n",
    "import matplotlib.image as mpimg\n",
    "%matplotlib inline\n",
    "plt.ion()\n",
    "\n",
    "import os\n",
    "import sys\n",
    "import re\n",
    "import pdb\n",
    "import glob\n"
   ]
  },
  {
   "cell_type": "code",
   "execution_count": 20,
   "metadata": {
    "collapsed": false
   },
   "outputs": [],
   "source": [
    "# Load library ratios\n",
    "file_name = '../output/ratios_9nt_ss_lib.txt'\n",
    "df = pd.read_csv(file_name, delim_whitespace=True, index_col='ss')\n",
    "\n",
    "# Compute means, std, and rmse\n",
    "new_df = pd.DataFrame(index=df.index)\n",
    "\n",
    "loci = ['brca2_9nt', 'ikbkap_9nt', 'smn1_9nt']\n",
    "for locus in loci:\n",
    "    cols = [c for c in df.columns if locus in c]\n",
    "    new_df[locus+'_mean'] = df[cols].mean(axis=1)\n",
    "    new_df[locus+'_rmse'] = df[cols].std(axis=1) / np.sqrt(np.isfinite(df[cols]).sum(axis=1))\n",
    "new_df.head()\n",
    "\n",
    "# Save spreadsheet\n",
    "new_df.to_csv('../output/ratios_9nt_loci_with_errors.txt',sep='\\t',na_rep='NaN')"
   ]
  },
  {
   "cell_type": "code",
   "execution_count": null,
   "metadata": {
    "collapsed": true
   },
   "outputs": [],
   "source": []
  }
 ],
 "metadata": {
  "kernelspec": {
   "display_name": "Python 2",
   "language": "python",
   "name": "python2"
  },
  "language_info": {
   "codemirror_mode": {
    "name": "ipython",
    "version": 2
   },
   "file_extension": ".py",
   "mimetype": "text/x-python",
   "name": "python",
   "nbconvert_exporter": "python",
   "pygments_lexer": "ipython2",
   "version": "2.7.11"
  }
 },
 "nbformat": 4,
 "nbformat_minor": 0
}
