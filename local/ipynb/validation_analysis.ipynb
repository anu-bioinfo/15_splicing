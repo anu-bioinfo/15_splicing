{
 "cells": [
  {
   "cell_type": "code",
   "execution_count": 1,
   "metadata": {
    "collapsed": false
   },
   "outputs": [],
   "source": [
    "from __future__ import division\n",
    "import pandas as pd\n",
    "import numpy as np\n",
    "import matplotlib.pyplot as plt\n",
    "import seaborn as sns\n",
    "import matplotlib.image as mpimg\n",
    "%matplotlib inline\n",
    "plt.ion()\n",
    "\n",
    "import os\n",
    "import sys\n",
    "import re\n",
    "import pdb\n",
    "import glob\n",
    "\n",
    "sys.path.append('../code')\n",
    "import utils"
   ]
  },
  {
   "cell_type": "code",
   "execution_count": 2,
   "metadata": {
    "collapsed": false
   },
   "outputs": [
    {
     "data": {
      "text/html": [
       "<div>\n",
       "<table border=\"1\" class=\"dataframe\">\n",
       "  <thead>\n",
       "    <tr style=\"text-align: right;\">\n",
       "      <th></th>\n",
       "      <th>brca2_9nt</th>\n",
       "      <th>ikbkap_9nt</th>\n",
       "      <th>smn1_9nt</th>\n",
       "    </tr>\n",
       "    <tr>\n",
       "      <th>ss</th>\n",
       "      <th></th>\n",
       "      <th></th>\n",
       "      <th></th>\n",
       "    </tr>\n",
       "  </thead>\n",
       "  <tbody>\n",
       "    <tr>\n",
       "      <th>AAAGCAAAA</th>\n",
       "      <td>0.076975</td>\n",
       "      <td>0.104390</td>\n",
       "      <td>0.030997</td>\n",
       "    </tr>\n",
       "    <tr>\n",
       "      <th>AAAGCAAAC</th>\n",
       "      <td>0.141863</td>\n",
       "      <td>0.079586</td>\n",
       "      <td>0.071297</td>\n",
       "    </tr>\n",
       "    <tr>\n",
       "      <th>AAAGCAAAG</th>\n",
       "      <td>0.155870</td>\n",
       "      <td>0.058732</td>\n",
       "      <td>0.028799</td>\n",
       "    </tr>\n",
       "    <tr>\n",
       "      <th>AAAGCAAAU</th>\n",
       "      <td>0.091296</td>\n",
       "      <td>0.093153</td>\n",
       "      <td>0.031767</td>\n",
       "    </tr>\n",
       "    <tr>\n",
       "      <th>AAAGCAACA</th>\n",
       "      <td>0.113007</td>\n",
       "      <td>0.130592</td>\n",
       "      <td>0.049450</td>\n",
       "    </tr>\n",
       "  </tbody>\n",
       "</table>\n",
       "</div>"
      ],
      "text/plain": [
       "           brca2_9nt  ikbkap_9nt  smn1_9nt\n",
       "ss                                        \n",
       "AAAGCAAAA   0.076975    0.104390  0.030997\n",
       "AAAGCAAAC   0.141863    0.079586  0.071297\n",
       "AAAGCAAAG   0.155870    0.058732  0.028799\n",
       "AAAGCAAAU   0.091296    0.093153  0.031767\n",
       "AAAGCAACA   0.113007    0.130592  0.049450"
      ]
     },
     "execution_count": 2,
     "metadata": {},
     "output_type": "execute_result"
    }
   ],
   "source": [
    "in_file = '../output/ratios_9nt_ss_locus.txt'\n",
    "ht_df = pd.read_csv(in_file,sep='\\t')\n",
    "ht_df.set_index('ss',inplace=True,drop=True)\n",
    "ht_df.head()"
   ]
  },
  {
   "cell_type": "code",
   "execution_count": 7,
   "metadata": {
    "collapsed": true
   },
   "outputs": [],
   "source": [
    "# Normalize by consensus sequence\n",
    "cons_seq = 'CAGGUAAGU'\n",
    "for col in ht_df.columns:\n",
    "    ht_df.loc[:,col] = 100*ht_df.loc[:,col]/ht_df.loc[cons_seq,col]\n",
    "ht_df[ht_df>100] = 100"
   ]
  },
  {
   "cell_type": "code",
   "execution_count": 8,
   "metadata": {
    "collapsed": false
   },
   "outputs": [
    {
     "data": {
      "text/html": [
       "<div>\n",
       "<table border=\"1\" class=\"dataframe\">\n",
       "  <thead>\n",
       "    <tr style=\"text-align: right;\">\n",
       "      <th></th>\n",
       "      <th>brca2_mean</th>\n",
       "      <th>brca2_std</th>\n",
       "      <th>smn1_mean</th>\n",
       "      <th>smn1_std</th>\n",
       "      <th>ikbkap_mean</th>\n",
       "      <th>ikbkap_std</th>\n",
       "    </tr>\n",
       "    <tr>\n",
       "      <th>ss</th>\n",
       "      <th></th>\n",
       "      <th></th>\n",
       "      <th></th>\n",
       "      <th></th>\n",
       "      <th></th>\n",
       "      <th></th>\n",
       "    </tr>\n",
       "  </thead>\n",
       "  <tbody>\n",
       "    <tr>\n",
       "      <th>CACGUGAGC</th>\n",
       "      <td>32.475689</td>\n",
       "      <td>0.245617</td>\n",
       "      <td>0.0</td>\n",
       "      <td>0.0</td>\n",
       "      <td>0.000000</td>\n",
       "      <td>0.000000</td>\n",
       "    </tr>\n",
       "    <tr>\n",
       "      <th>CAUGUGAGC</th>\n",
       "      <td>10.734417</td>\n",
       "      <td>0.552055</td>\n",
       "      <td>0.0</td>\n",
       "      <td>0.0</td>\n",
       "      <td>0.000000</td>\n",
       "      <td>0.000000</td>\n",
       "    </tr>\n",
       "    <tr>\n",
       "      <th>CAAGUGAGC</th>\n",
       "      <td>24.499400</td>\n",
       "      <td>1.391693</td>\n",
       "      <td>0.0</td>\n",
       "      <td>0.0</td>\n",
       "      <td>0.000000</td>\n",
       "      <td>0.000000</td>\n",
       "    </tr>\n",
       "    <tr>\n",
       "      <th>GGAGUGAGU</th>\n",
       "      <td>13.616450</td>\n",
       "      <td>0.244311</td>\n",
       "      <td>0.0</td>\n",
       "      <td>0.0</td>\n",
       "      <td>0.203807</td>\n",
       "      <td>0.057783</td>\n",
       "    </tr>\n",
       "    <tr>\n",
       "      <th>AUGGCAAGU</th>\n",
       "      <td>31.587561</td>\n",
       "      <td>0.811330</td>\n",
       "      <td>0.0</td>\n",
       "      <td>0.0</td>\n",
       "      <td>0.000000</td>\n",
       "      <td>0.000000</td>\n",
       "    </tr>\n",
       "  </tbody>\n",
       "</table>\n",
       "</div>"
      ],
      "text/plain": [
       "           brca2_mean  brca2_std  smn1_mean  smn1_std  ikbkap_mean  ikbkap_std\n",
       "ss                                                                            \n",
       "CACGUGAGC   32.475689   0.245617        0.0       0.0     0.000000    0.000000\n",
       "CAUGUGAGC   10.734417   0.552055        0.0       0.0     0.000000    0.000000\n",
       "CAAGUGAGC   24.499400   1.391693        0.0       0.0     0.000000    0.000000\n",
       "GGAGUGAGU   13.616450   0.244311        0.0       0.0     0.203807    0.057783\n",
       "AUGGCAAGU   31.587561   0.811330        0.0       0.0     0.000000    0.000000"
      ]
     },
     "execution_count": 8,
     "metadata": {},
     "output_type": "execute_result"
    }
   ],
   "source": [
    "validation_file = '../data/library_validations.xlsx'\n",
    "lt_df = pd.read_excel(validation_file)\n",
    "lt_df.set_index('ss',inplace=True,drop=True)\n",
    "lt_df.head()"
   ]
  },
  {
   "cell_type": "code",
   "execution_count": 9,
   "metadata": {
    "collapsed": false
   },
   "outputs": [
    {
     "data": {
      "text/html": [
       "<div>\n",
       "<table border=\"1\" class=\"dataframe\">\n",
       "  <thead>\n",
       "    <tr style=\"text-align: right;\">\n",
       "      <th></th>\n",
       "      <th>brca2_9nt</th>\n",
       "      <th>ikbkap_9nt</th>\n",
       "      <th>smn1_9nt</th>\n",
       "      <th>brca2_mean</th>\n",
       "      <th>brca2_std</th>\n",
       "      <th>smn1_mean</th>\n",
       "      <th>smn1_std</th>\n",
       "      <th>ikbkap_mean</th>\n",
       "      <th>ikbkap_std</th>\n",
       "    </tr>\n",
       "    <tr>\n",
       "      <th>ss</th>\n",
       "      <th></th>\n",
       "      <th></th>\n",
       "      <th></th>\n",
       "      <th></th>\n",
       "      <th></th>\n",
       "      <th></th>\n",
       "      <th></th>\n",
       "      <th></th>\n",
       "      <th></th>\n",
       "    </tr>\n",
       "  </thead>\n",
       "  <tbody>\n",
       "    <tr>\n",
       "      <th>CACGUGAGC</th>\n",
       "      <td>56.230274</td>\n",
       "      <td>0.679144</td>\n",
       "      <td>0.203810</td>\n",
       "      <td>32.475689</td>\n",
       "      <td>0.245617</td>\n",
       "      <td>0.0</td>\n",
       "      <td>0.0</td>\n",
       "      <td>0.000000</td>\n",
       "      <td>0.000000</td>\n",
       "    </tr>\n",
       "    <tr>\n",
       "      <th>CAUGUGAGC</th>\n",
       "      <td>19.932143</td>\n",
       "      <td>0.000000</td>\n",
       "      <td>0.272786</td>\n",
       "      <td>10.734417</td>\n",
       "      <td>0.552055</td>\n",
       "      <td>0.0</td>\n",
       "      <td>0.0</td>\n",
       "      <td>0.000000</td>\n",
       "      <td>0.000000</td>\n",
       "    </tr>\n",
       "    <tr>\n",
       "      <th>CAAGUGAGC</th>\n",
       "      <td>38.342058</td>\n",
       "      <td>0.159330</td>\n",
       "      <td>0.425370</td>\n",
       "      <td>24.499400</td>\n",
       "      <td>1.391693</td>\n",
       "      <td>0.0</td>\n",
       "      <td>0.0</td>\n",
       "      <td>0.000000</td>\n",
       "      <td>0.000000</td>\n",
       "    </tr>\n",
       "    <tr>\n",
       "      <th>GGAGUGAGU</th>\n",
       "      <td>29.231234</td>\n",
       "      <td>0.000000</td>\n",
       "      <td>0.594557</td>\n",
       "      <td>13.616450</td>\n",
       "      <td>0.244311</td>\n",
       "      <td>0.0</td>\n",
       "      <td>0.0</td>\n",
       "      <td>0.203807</td>\n",
       "      <td>0.057783</td>\n",
       "    </tr>\n",
       "    <tr>\n",
       "      <th>AUGGCAAGU</th>\n",
       "      <td>48.472747</td>\n",
       "      <td>0.056118</td>\n",
       "      <td>1.612381</td>\n",
       "      <td>31.587561</td>\n",
       "      <td>0.811330</td>\n",
       "      <td>0.0</td>\n",
       "      <td>0.0</td>\n",
       "      <td>0.000000</td>\n",
       "      <td>0.000000</td>\n",
       "    </tr>\n",
       "  </tbody>\n",
       "</table>\n",
       "</div>"
      ],
      "text/plain": [
       "           brca2_9nt  ikbkap_9nt  smn1_9nt  brca2_mean  brca2_std  smn1_mean  \\\n",
       "ss                                                                             \n",
       "CACGUGAGC  56.230274    0.679144  0.203810   32.475689   0.245617        0.0   \n",
       "CAUGUGAGC  19.932143    0.000000  0.272786   10.734417   0.552055        0.0   \n",
       "CAAGUGAGC  38.342058    0.159330  0.425370   24.499400   1.391693        0.0   \n",
       "GGAGUGAGU  29.231234    0.000000  0.594557   13.616450   0.244311        0.0   \n",
       "AUGGCAAGU  48.472747    0.056118  1.612381   31.587561   0.811330        0.0   \n",
       "\n",
       "           smn1_std  ikbkap_mean  ikbkap_std  \n",
       "ss                                            \n",
       "CACGUGAGC       0.0     0.000000    0.000000  \n",
       "CAUGUGAGC       0.0     0.000000    0.000000  \n",
       "CAAGUGAGC       0.0     0.000000    0.000000  \n",
       "GGAGUGAGU       0.0     0.203807    0.057783  \n",
       "AUGGCAAGU       0.0     0.000000    0.000000  "
      ]
     },
     "execution_count": 9,
     "metadata": {},
     "output_type": "execute_result"
    }
   ],
   "source": [
    "df = ht_df.merge(lt_df,left_index=True,right_index=True,how='inner')\n",
    "df.head()"
   ]
  },
  {
   "cell_type": "code",
   "execution_count": 31,
   "metadata": {
    "collapsed": false
   },
   "outputs": [
    {
     "data": {
      "image/png": "[encoded data removed]",
      "text/plain": [
       "<matplotlib.figure.Figure at 0x1182b6410>"
      ]
     },
     "metadata": {},
     "output_type": "display_data"
    }
   ],
   "source": [
    "from scipy.stats import pearsonr\n",
    "sns.set_style(\"whitegrid\", {'axes.grid' : False})\n",
    "plt.figure(figsize=[12,4])\n",
    "loci=['brca2','ikbkap','smn1']\n",
    "for n, locus in enumerate(loci):\n",
    "    plt.subplot(1,3,n+1)\n",
    "    xs = df[locus+'_9nt']\n",
    "    ys = df[locus+'_mean']\n",
    "    dys = df[locus+'_std']\n",
    "    indices = np.isfinite(xs) & np.isfinite(ys)\n",
    "    r, p = pearsonr(xs[indices],ys[indices])\n",
    "    plt.errorbar(xs,ys,yerr=dys,linestyle='none',marker='o')\n",
    "    locus_name = locus[0].upper() + locus[1:]\n",
    "    plt.title('%s: $R^2$=%.2f, p=%.2e'%(locus_name,r**2,p))\n",
    "    plt.xlabel('high throughput (psi %)')\n",
    "    plt.ylabel('manual validation (psi %)')\n",
    "    \n",
    "plt.tight_layout()\n",
    "plt.savefig('validation_scatter.pdf')"
   ]
  },
  {
   "cell_type": "code",
   "execution_count": null,
   "metadata": {
    "collapsed": true
   },
   "outputs": [],
   "source": []
  }
 ],
 "metadata": {
  "kernelspec": {
   "display_name": "Python 2",
   "language": "python",
   "name": "python2"
  },
  "language_info": {
   "codemirror_mode": {
    "name": "ipython",
    "version": 2
   },
   "file_extension": ".py",
   "mimetype": "text/x-python",
   "name": "python",
   "nbconvert_exporter": "python",
   "pygments_lexer": "ipython2",
   "version": "2.7.11"
  }
 },
 "nbformat": 4,
 "nbformat_minor": 0
}
