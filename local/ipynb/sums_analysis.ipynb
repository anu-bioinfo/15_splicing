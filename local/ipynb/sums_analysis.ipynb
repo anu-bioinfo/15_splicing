{
 "cells": [
  {
   "cell_type": "code",
   "execution_count": 1,
   "metadata": {
    "collapsed": false
   },
   "outputs": [],
   "source": [
    "from __future__ import division\n",
    "import pandas as pd\n",
    "import numpy as np\n",
    "import matplotlib.pyplot as plt\n",
    "import matplotlib.image as mpimg\n",
    "\n",
    "%matplotlib_inline\n",
    "plt.ion()\n",
    "\n",
    "import seaborn as sns\n",
    "sns.set_style(\"whitegrid\", {'axes.grid' : False})\n",
    "\n",
    "import os\n",
    "import sys\n",
    "import re\n",
    "import pdb\n",
    "import glob\n",
    "import weblogolib\n",
    "\n",
    "# Import my stuff\n",
    "sys.path.append('../code')\n",
    "import utils"
   ]
  },
  {
   "cell_type": "code",
   "execution_count": 2,
   "metadata": {
    "collapsed": false
   },
   "outputs": [],
   "source": [
    "# Define input and output files\n",
    "in_bc_lib_glob = '../input_from_cluster/results.brca2_9nt_lib1*.txt'\n",
    "in_jct_glob = '../input_from_cluster/counts.brca2_9nt*jct*.txt'\n",
    "out_bc_sums_file = '../output/sums_bc.txt'\n",
    "out_lib_sums_file = '../output/sums_lib.txt'\n",
    "out_jct_sums_file = '../output/sums_jct.txt'"
   ]
  },
  {
   "cell_type": "code",
   "execution_count": 8,
   "metadata": {
    "collapsed": false
   },
   "outputs": [
    {
     "name": "stdout",
     "output_type": "stream",
     "text": [
      "Counting num reads in all bc and lib samples...\n",
      "get_ss_counts: brca2_9nt_lib1_rep1 loaded.\n",
      "get_ss_counts: brca2_9nt_lib1_rep2 loaded.\n",
      "get_ss_counts: brca2_9nt_lib1_rep3 loaded.\n",
      "Sums written to ../output/sums_bc.txt\n",
      "Sums written to ../output/sums_lib.txt\n"
     ]
    }
   ],
   "source": [
    "# Compute the total number of reads in each experiment and each library\n",
    "print 'Counting num reads in all bc and lib samples...'\n",
    "\n",
    "# Load read counts from all experiments (except junction experiments)\n",
    "counts_df = \\\n",
    "    utils.get_ss_counts(in_bc_lib_glob)\n",
    "\n",
    "# Sum counts\n",
    "experiments = utils.splice(counts_df.columns,elements=[0,1,2,3],unique=True)\n",
    "cols = utils.splice(counts_df.columns,elements=[4,5],unique=True)\n",
    "all_sums_df = pd.DataFrame(index=experiments,columns=cols)\n",
    "all_sums_df.index.name='experiment'\n",
    "for experiment in experiments:\n",
    "    for col in cols:\n",
    "        sample = '%s_%s'%(experiment,col)\n",
    "        all_sums_df.loc[experiment,col] = counts_df[sample].sum()\n",
    "    all_sums_df.loc[experiment,'library'] = \\\n",
    "        '_'.join(experiment.split('_')[:3])\n",
    "        \n",
    "# Get sums just for bc samples\n",
    "bc_sums_df = all_sums_df[['tot_ct','ex_ct']]\n",
    "bc_sums_df.to_csv(out_bc_sums_file,sep='\\t')\n",
    "print 'Sums written to %s'%out_bc_sums_file\n",
    "\n",
    "# Get sums just for libraries\n",
    "lib_sums_df = all_sums_df.groupby('library').first()[['lib_ct','mis_ct']]\n",
    "lib_sums_df.to_csv(out_lib_sums_file,sep='\\t')\n",
    "print 'Sums written to %s'%out_lib_sums_file"
   ]
  },
  {
   "cell_type": "code",
   "execution_count": 9,
   "metadata": {
    "collapsed": false
   },
   "outputs": [
    {
     "name": "stdout",
     "output_type": "stream",
     "text": [
      "Counting num reads in all jct samples...\n",
      "Sums written to ../output/sums_jct.txt\n"
     ]
    }
   ],
   "source": [
    "# Compute the total number of reads in each junction sample\n",
    "print 'Counting num reads in all jct samples...'\n",
    "\n",
    "\n",
    "file_names = glob.glob(in_jct_glob)\n",
    "jct_sums_df = pd.DataFrame()\n",
    "jct_sums_df.index.name='experiment'\n",
    "for file_name in file_names:\n",
    "\n",
    "    # Parse file_name\n",
    "    m = re.match(utils.COUNT_FILE_PATTERN,file_name)\n",
    "    d = m.groupdict()\n",
    "    sample = d['sample']\n",
    "    if 'brca2' in sample:\n",
    "        sample += '_rep1'\n",
    "    experiment = utils.splice(sample,elements=[0,1,3,4])\n",
    "\n",
    "    # Load data\n",
    "    tmp_df = pd.read_csv(file_name,delim_whitespace=True)\n",
    "    \n",
    "    # Marginalize over barcodes; keep only ex and tot cts. \n",
    "    jct_sums_df.loc[experiment,'jct_ct'] = tmp_df['ct'].sum()\n",
    "    \n",
    "jct_sums_df = jct_sums_df.astype(int)\n",
    "jct_sums_df.to_csv(out_jct_sums_file,sep='\\t')\n",
    "print 'Sums written to %s'%out_jct_sums_file"
   ]
  },
  {
   "cell_type": "code",
   "execution_count": 7,
   "metadata": {
    "collapsed": false
   },
   "outputs": [
    {
     "name": "stdout",
     "output_type": "stream",
     "text": [
      "Done!\n"
     ]
    }
   ],
   "source": [
    "print 'Done!'"
   ]
  },
  {
   "cell_type": "code",
   "execution_count": null,
   "metadata": {
    "collapsed": true
   },
   "outputs": [],
   "source": []
  }
 ],
 "metadata": {
  "kernelspec": {
   "display_name": "Python 2",
   "language": "python",
   "name": "python2"
  },
  "language_info": {
   "codemirror_mode": {
    "name": "ipython",
    "version": 2
   },
   "file_extension": ".py",
   "mimetype": "text/x-python",
   "name": "python",
   "nbconvert_exporter": "python",
   "pygments_lexer": "ipython2",
   "version": "2.7.11"
  }
 },
 "nbformat": 4,
 "nbformat_minor": 0
}
