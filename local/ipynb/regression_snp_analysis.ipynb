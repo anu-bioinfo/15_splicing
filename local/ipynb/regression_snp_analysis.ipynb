{
 "cells": [
  {
   "cell_type": "code",
   "execution_count": 1,
   "metadata": {
    "collapsed": false
   },
   "outputs": [],
   "source": [
    "from __future__ import division\n",
    "import pandas as pd\n",
    "import numpy as np\n",
    "import matplotlib.pyplot as plt\n",
    "import seaborn as sns\n",
    "import matplotlib.image as mpimg\n",
    "%matplotlib inline\n",
    "plt.ion()\n",
    "\n",
    "import os\n",
    "import sys\n",
    "import re\n",
    "import pdb\n",
    "import glob\n",
    "\n",
    "sys.path.insert(0, '/Users/jkinney/github/anylogo/')\n",
    "sys.path.append('../src')\n",
    "#sys.path.append('/Users/jkinney/github/anylogo')\n",
    "import utils\n",
    "from anylogo import logomaker\n",
    "sns.set_style(\"whitegrid\", {'axes.grid' : False})"
   ]
  },
  {
   "cell_type": "code",
   "execution_count": 2,
   "metadata": {
    "collapsed": false
   },
   "outputs": [],
   "source": [
    "# Load ratios\n",
    "in_file = '../output/ratios_9nt_ss_locus.txt'\n",
    "df = pd.read_csv(in_file,sep='\\t')\n",
    "df.set_index('ss',inplace=True,drop=True)\n",
    "site_length = len(df.index[0])    "
   ]
  },
  {
   "cell_type": "code",
   "execution_count": 3,
   "metadata": {
    "collapsed": true
   },
   "outputs": [],
   "source": [
    "# Normalize each column by consens sequence value\n",
    "cons_seq = 'CAGGUAAGU'\n",
    "for col in df.columns:\n",
    "    df.loc[:,col] = 100*df.loc[:,col]/df.loc[cons_seq,col]"
   ]
  },
  {
   "cell_type": "code",
   "execution_count": 9,
   "metadata": {
    "collapsed": false
   },
   "outputs": [
    {
     "name": "stdout",
     "output_type": "stream",
     "text": [
      "32768\n"
     ]
    },
    {
     "data": {
      "text/html": [
       "<div>\n",
       "<table border=\"1\" class=\"dataframe\">\n",
       "  <thead>\n",
       "    <tr style=\"text-align: right;\">\n",
       "      <th></th>\n",
       "      <th>0A</th>\n",
       "      <th>0C</th>\n",
       "      <th>0G</th>\n",
       "      <th>0U</th>\n",
       "      <th>1A</th>\n",
       "      <th>1C</th>\n",
       "      <th>1G</th>\n",
       "      <th>1U</th>\n",
       "      <th>2A</th>\n",
       "      <th>2C</th>\n",
       "      <th>...</th>\n",
       "      <th>6G</th>\n",
       "      <th>6U</th>\n",
       "      <th>7A</th>\n",
       "      <th>7C</th>\n",
       "      <th>7G</th>\n",
       "      <th>7U</th>\n",
       "      <th>8A</th>\n",
       "      <th>8C</th>\n",
       "      <th>8G</th>\n",
       "      <th>8U</th>\n",
       "    </tr>\n",
       "    <tr>\n",
       "      <th>ss</th>\n",
       "      <th></th>\n",
       "      <th></th>\n",
       "      <th></th>\n",
       "      <th></th>\n",
       "      <th></th>\n",
       "      <th></th>\n",
       "      <th></th>\n",
       "      <th></th>\n",
       "      <th></th>\n",
       "      <th></th>\n",
       "      <th></th>\n",
       "      <th></th>\n",
       "      <th></th>\n",
       "      <th></th>\n",
       "      <th></th>\n",
       "      <th></th>\n",
       "      <th></th>\n",
       "      <th></th>\n",
       "      <th></th>\n",
       "      <th></th>\n",
       "      <th></th>\n",
       "    </tr>\n",
       "  </thead>\n",
       "  <tbody>\n",
       "    <tr>\n",
       "      <th>AAAGCAAAA</th>\n",
       "      <td>1.0</td>\n",
       "      <td>0.0</td>\n",
       "      <td>0.0</td>\n",
       "      <td>0.0</td>\n",
       "      <td>1.0</td>\n",
       "      <td>0.0</td>\n",
       "      <td>0.0</td>\n",
       "      <td>0.0</td>\n",
       "      <td>1.0</td>\n",
       "      <td>0.0</td>\n",
       "      <td>...</td>\n",
       "      <td>0.0</td>\n",
       "      <td>0.0</td>\n",
       "      <td>1.0</td>\n",
       "      <td>0.0</td>\n",
       "      <td>0.0</td>\n",
       "      <td>0.0</td>\n",
       "      <td>1.0</td>\n",
       "      <td>0.0</td>\n",
       "      <td>0.0</td>\n",
       "      <td>0.0</td>\n",
       "    </tr>\n",
       "    <tr>\n",
       "      <th>AAAGCAAAC</th>\n",
       "      <td>1.0</td>\n",
       "      <td>0.0</td>\n",
       "      <td>0.0</td>\n",
       "      <td>0.0</td>\n",
       "      <td>1.0</td>\n",
       "      <td>0.0</td>\n",
       "      <td>0.0</td>\n",
       "      <td>0.0</td>\n",
       "      <td>1.0</td>\n",
       "      <td>0.0</td>\n",
       "      <td>...</td>\n",
       "      <td>0.0</td>\n",
       "      <td>0.0</td>\n",
       "      <td>1.0</td>\n",
       "      <td>0.0</td>\n",
       "      <td>0.0</td>\n",
       "      <td>0.0</td>\n",
       "      <td>0.0</td>\n",
       "      <td>1.0</td>\n",
       "      <td>0.0</td>\n",
       "      <td>0.0</td>\n",
       "    </tr>\n",
       "    <tr>\n",
       "      <th>AAAGCAAAG</th>\n",
       "      <td>1.0</td>\n",
       "      <td>0.0</td>\n",
       "      <td>0.0</td>\n",
       "      <td>0.0</td>\n",
       "      <td>1.0</td>\n",
       "      <td>0.0</td>\n",
       "      <td>0.0</td>\n",
       "      <td>0.0</td>\n",
       "      <td>1.0</td>\n",
       "      <td>0.0</td>\n",
       "      <td>...</td>\n",
       "      <td>0.0</td>\n",
       "      <td>0.0</td>\n",
       "      <td>1.0</td>\n",
       "      <td>0.0</td>\n",
       "      <td>0.0</td>\n",
       "      <td>0.0</td>\n",
       "      <td>0.0</td>\n",
       "      <td>0.0</td>\n",
       "      <td>1.0</td>\n",
       "      <td>0.0</td>\n",
       "    </tr>\n",
       "    <tr>\n",
       "      <th>AAAGCAAAU</th>\n",
       "      <td>1.0</td>\n",
       "      <td>0.0</td>\n",
       "      <td>0.0</td>\n",
       "      <td>0.0</td>\n",
       "      <td>1.0</td>\n",
       "      <td>0.0</td>\n",
       "      <td>0.0</td>\n",
       "      <td>0.0</td>\n",
       "      <td>1.0</td>\n",
       "      <td>0.0</td>\n",
       "      <td>...</td>\n",
       "      <td>0.0</td>\n",
       "      <td>0.0</td>\n",
       "      <td>1.0</td>\n",
       "      <td>0.0</td>\n",
       "      <td>0.0</td>\n",
       "      <td>0.0</td>\n",
       "      <td>0.0</td>\n",
       "      <td>0.0</td>\n",
       "      <td>0.0</td>\n",
       "      <td>1.0</td>\n",
       "    </tr>\n",
       "    <tr>\n",
       "      <th>AAAGCAACA</th>\n",
       "      <td>1.0</td>\n",
       "      <td>0.0</td>\n",
       "      <td>0.0</td>\n",
       "      <td>0.0</td>\n",
       "      <td>1.0</td>\n",
       "      <td>0.0</td>\n",
       "      <td>0.0</td>\n",
       "      <td>0.0</td>\n",
       "      <td>1.0</td>\n",
       "      <td>0.0</td>\n",
       "      <td>...</td>\n",
       "      <td>0.0</td>\n",
       "      <td>0.0</td>\n",
       "      <td>0.0</td>\n",
       "      <td>1.0</td>\n",
       "      <td>0.0</td>\n",
       "      <td>0.0</td>\n",
       "      <td>1.0</td>\n",
       "      <td>0.0</td>\n",
       "      <td>0.0</td>\n",
       "      <td>0.0</td>\n",
       "    </tr>\n",
       "  </tbody>\n",
       "</table>\n",
       "<p>5 rows × 28 columns</p>\n",
       "</div>"
      ],
      "text/plain": [
       "            0A   0C   0G   0U   1A   1C   1G   1U   2A   2C ...    6G   6U  \\\n",
       "ss                                                          ...              \n",
       "AAAGCAAAA  1.0  0.0  0.0  0.0  1.0  0.0  0.0  0.0  1.0  0.0 ...   0.0  0.0   \n",
       "AAAGCAAAC  1.0  0.0  0.0  0.0  1.0  0.0  0.0  0.0  1.0  0.0 ...   0.0  0.0   \n",
       "AAAGCAAAG  1.0  0.0  0.0  0.0  1.0  0.0  0.0  0.0  1.0  0.0 ...   0.0  0.0   \n",
       "AAAGCAAAU  1.0  0.0  0.0  0.0  1.0  0.0  0.0  0.0  1.0  0.0 ...   0.0  0.0   \n",
       "AAAGCAACA  1.0  0.0  0.0  0.0  1.0  0.0  0.0  0.0  1.0  0.0 ...   0.0  0.0   \n",
       "\n",
       "            7A   7C   7G   7U   8A   8C   8G   8U  \n",
       "ss                                                 \n",
       "AAAGCAAAA  1.0  0.0  0.0  0.0  1.0  0.0  0.0  0.0  \n",
       "AAAGCAAAC  1.0  0.0  0.0  0.0  0.0  1.0  0.0  0.0  \n",
       "AAAGCAAAG  1.0  0.0  0.0  0.0  0.0  0.0  1.0  0.0  \n",
       "AAAGCAAAU  1.0  0.0  0.0  0.0  0.0  0.0  0.0  1.0  \n",
       "AAAGCAACA  0.0  1.0  0.0  0.0  1.0  0.0  0.0  0.0  \n",
       "\n",
       "[5 rows x 28 columns]"
      ]
     },
     "execution_count": 9,
     "metadata": {},
     "output_type": "execute_result"
    }
   ],
   "source": [
    "# Compute feature vectors for each single position\n",
    "bases = 'ACGU'\n",
    "variable_positions = [0,1,2,5,6,7,8]\n",
    "\n",
    "char_df = pd.DataFrame(index=df.index)\n",
    "#char_df.loc[:,'const'] = 1.0\n",
    "for i in variable_positions:\n",
    "    for b in bases:\n",
    "        col_name = '%d%s'%(i,b)\n",
    "        char_df.loc[:,col_name] = [float(ss[i]==b) for ss in df.index]\n",
    "\n",
    "print len(char_df)\n",
    "char_df.head()"
   ]
  },
  {
   "cell_type": "code",
   "execution_count": 13,
   "metadata": {
    "collapsed": false
   },
   "outputs": [
    {
     "data": {
      "text/plain": [
       "16216"
      ]
     },
     "execution_count": 13,
     "metadata": {},
     "output_type": "execute_result"
    }
   ],
   "source": [
    "# Drop nan rows\n",
    "measurements = df['brca2_9nt'].dropna()\n",
    "\n",
    "# Keep only GU splice sites\n",
    "indices = [ss[3:5]=='GU' for ss in measurements.index]\n",
    "measurements = measurements[indices]\n",
    "\n",
    "# Filter for substantial values\n",
    "splicing_threshod = 0\n",
    "measurements = measurements[measurements >= splicing_threshod]\n",
    "len(measurements)\n",
    "\n",
    "X = char_df.loc[measurements.index,:]\n",
    "len(X)"
   ]
  },
  {
   "cell_type": "code",
   "execution_count": 14,
   "metadata": {
    "collapsed": false
   },
   "outputs": [
    {
     "data": {
      "text/plain": [
       "Ridge(alpha=0.0001, copy_X=True, fit_intercept=True, max_iter=None,\n",
       "   normalize=False, random_state=None, solver='auto', tol=0.001)"
      ]
     },
     "execution_count": 14,
     "metadata": {},
     "output_type": "execute_result"
    }
   ],
   "source": [
    "# Do linear regression with small rige penalty to fix gauge\n",
    "\n",
    "from sklearn import linear_model\n",
    "reg = linear_model.Ridge (alpha = .0001)\n",
    "reg.fit (X.values, measurements.values)"
   ]
  },
  {
   "cell_type": "code",
   "execution_count": 15,
   "metadata": {
    "collapsed": false
   },
   "outputs": [
    {
     "name": "stdout",
     "output_type": "stream",
     "text": [
      "          A         C          G         U\n",
      "0  1.022206  2.601940  -1.630298 -1.993848\n",
      "1  4.250776  0.085220  -1.561616 -2.774379\n",
      "2 -4.228451 -3.978427  12.559729 -4.352854\n",
      "5  9.740258 -4.730463  -0.653131 -4.356664\n",
      "6  5.616935 -1.295270  -2.467000 -1.854665\n",
      "7 -2.532181 -3.108604   8.225124 -2.584339\n",
      "8 -1.343269 -1.294832  -0.479795  3.117895\n"
     ]
    },
    {
     "data": {
      "image/png": "[encoded data removed]",
      "text/plain": [
       "<matplotlib.figure.Figure at 0x1140fe550>"
      ]
     },
     "metadata": {},
     "output_type": "display_data"
    }
   ],
   "source": [
    "logo_matrix = pd.DataFrame(index=variable_positions,columns=list(bases))\n",
    "logo_matrix.loc[:,:] = reg.coef_.reshape(7,4)\n",
    "print logo_matrix\n",
    "logo = logomaker.make_logo(matrix=logo_matrix, \n",
    "                           matrix_type='enrichment', \n",
    "                           logo_type='enrichment', \n",
    "                           counts_threshold=0, \n",
    "                           colors='classic',\n",
    "                           ylabel='effect', \n",
    "                           font_family='Arial Rounded MT Bold',\n",
    "                           axes_type='naked',\n",
    "                           baseline_alpha=1,\n",
    "                           baseline_color='black',\n",
    "                           baseline_width=3,\n",
    "                           show_baseline=True,\n",
    "                           show_binary_yaxis=True)"
   ]
  },
  {
   "cell_type": "code",
   "execution_count": 20,
   "metadata": {
    "collapsed": false
   },
   "outputs": [
    {
     "data": {
      "text/plain": [
       "<matplotlib.text.Text at 0x1142290d0>"
      ]
     },
     "execution_count": 20,
     "metadata": {},
     "output_type": "execute_result"
    },
    {
     "data": {
      "image/png": "[encoded data removed]",
      "text/plain": [
       "<matplotlib.figure.Figure at 0x1124aa4d0>"
      ]
     },
     "metadata": {},
     "output_type": "display_data"
    }
   ],
   "source": [
    "plt.plot(measurements, reg.predict(X), '.')\n",
    "plt.xlabel('measurements')\n",
    "plt.ylabel('predictions')"
   ]
  },
  {
   "cell_type": "code",
   "execution_count": 16,
   "metadata": {
    "collapsed": false
   },
   "outputs": [],
   "source": [
    "# # Do regression\n",
    "# from numpy.linalg import lstsq\n",
    "\n",
    "# coeffs,x,xx,xxx = lstsq(X.values,measurements.values)\n",
    "# coeffs"
   ]
  },
  {
   "cell_type": "code",
   "execution_count": 17,
   "metadata": {
    "collapsed": false
   },
   "outputs": [],
   "source": [
    "# # Subtract out mean element at each position\n",
    "# P = pd.DataFrame(columns=X.columns, index=X.columns).fillna(0)\n",
    "# P.loc['const',:] = 1/4\n",
    "# P.loc['const','const'] = 1\n",
    "# x = np.sqrt(3/4)\n",
    "# for i in variable_positions:\n",
    "#     for b in bases:\n",
    "#         row = '%d%s'%(i,b)\n",
    "#         pos_cols = ['%d%s'%(i,c) for c in bases]\n",
    "#         P.loc[row,pos_cols] = -x/3\n",
    "#         P.loc[row,row] = x\n",
    "# P"
   ]
  },
  {
   "cell_type": "code",
   "execution_count": 18,
   "metadata": {
    "collapsed": false
   },
   "outputs": [],
   "source": [
    "# fixed_coeffs = np.mat(P.values)*np.mat(coeffs).T\n",
    "# fixed_coeffs"
   ]
  },
  {
   "cell_type": "code",
   "execution_count": null,
   "metadata": {
    "collapsed": false
   },
   "outputs": [],
   "source": [
    "# predictions = np.mat(X.values)*(np.mat(coeffs).T)\n",
    "# predictions.shape"
   ]
  },
  {
   "cell_type": "code",
   "execution_count": null,
   "metadata": {
    "collapsed": false
   },
   "outputs": [],
   "source": []
  }
 ],
 "metadata": {
  "kernelspec": {
   "display_name": "Python 2",
   "language": "python",
   "name": "python2"
  },
  "language_info": {
   "codemirror_mode": {
    "name": "ipython",
    "version": 2
   },
   "file_extension": ".py",
   "mimetype": "text/x-python",
   "name": "python",
   "nbconvert_exporter": "python",
   "pygments_lexer": "ipython2",
   "version": "2.7.11"
  }
 },
 "nbformat": 4,
 "nbformat_minor": 0
}
